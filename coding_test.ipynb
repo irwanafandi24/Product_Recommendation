{
  "nbformat": 4,
  "nbformat_minor": 0,
  "metadata": {
    "colab": {
      "name": "Kitabisa.ipynb",
      "provenance": [],
      "collapsed_sections": []
    },
    "kernelspec": {
      "name": "python3",
      "display_name": "Python 3"
    }
  },
  "cells": [
    {
      "cell_type": "code",
      "metadata": {
        "id": "ABxlt1HeaIrb"
      },
      "source": [
        "def get_min(a, b):\r\n",
        "  return a if a < b else b\r\n",
        "\r\n",
        "def factor(a):\r\n",
        "  return [x for x in range(1, a+1) if a%x==0]\r\n",
        "\r\n",
        "def number_item(a, b, box):\r\n",
        "  print(\"Cakes\\t: \", int(a/box))\r\n",
        "  print(\"Apples\\t: \", int(b/box))\r\n",
        "  return [int(a/box), int(b/box)]\r\n",
        "\r\n",
        "def box_make(a, b):\r\n",
        "  min = get_min(a,b)\r\n",
        "  fac_min = factor(min)\r\n",
        "\r\n",
        "  box_combination = []\r\n",
        "  for val in fac_min:\r\n",
        "    if a%val == 0 and b%val == 0:\r\n",
        "      box_combination.append(val)\r\n",
        "  \r\n",
        "  str_box = [str(x) for x in box_combination]\r\n",
        "  get_box = ' or '.join(str_box)\r\n",
        "  print(\"\\nAinun can make box with the option : \" + get_box)\r\n",
        "  print(\"with the detail: \")\r\n",
        "  for box in box_combination:\r\n",
        "    print(\"If Ainun make \"+str(box)+\" box, each box containts: \")\r\n",
        "    number_item(a, b, box)\r\n",
        "    print(\"\")\r\n",
        "  return box_combination\r\n",
        "\r\n"
      ],
      "execution_count": null,
      "outputs": []
    },
    {
      "cell_type": "code",
      "metadata": {
        "colab": {
          "base_uri": "https://localhost:8080/"
        },
        "id": "rkWrQxJibw3V",
        "outputId": "d56426ff-249e-493f-eedb-aa89d85a2c3c"
      },
      "source": [
        "cakes = int(input(\"Cakes: \"))\r\n",
        "apples = int(input(\"Apples: \"))\r\n",
        "box_make(cakes, apples)"
      ],
      "execution_count": null,
      "outputs": [
        {
          "output_type": "stream",
          "text": [
            "Cakes: 20\n",
            "Apples: 25\n",
            "\n",
            "Ainun can make box with the option : 1 or 5\n",
            "with the detail: \n",
            "If Ainun make 1 box, each box containts: \n",
            "Cakes\t:  20\n",
            "Apples\t:  25\n",
            "\n",
            "If Ainun make 5 box, each box containts: \n",
            "Cakes\t:  4\n",
            "Apples\t:  5\n",
            "\n"
          ],
          "name": "stdout"
        },
        {
          "output_type": "execute_result",
          "data": {
            "text/plain": [
              "[1, 5]"
            ]
          },
          "metadata": {
            "tags": []
          },
          "execution_count": 16
        }
      ]
    },
    {
      "cell_type": "code",
      "metadata": {
        "colab": {
          "base_uri": "https://localhost:8080/"
        },
        "id": "q8djds2fnrO3",
        "outputId": "badc1838-cc67-4410-e284-300c80a3ffb5"
      },
      "source": [
        "number_item(20, 25, 5)"
      ],
      "execution_count": null,
      "outputs": [
        {
          "output_type": "stream",
          "text": [
            "Cakes\t:  4\n",
            "Apples\t:  5\n"
          ],
          "name": "stdout"
        },
        {
          "output_type": "execute_result",
          "data": {
            "text/plain": [
              "[4, 5]"
            ]
          },
          "metadata": {
            "tags": []
          },
          "execution_count": 8
        }
      ]
    },
    {
      "cell_type": "code",
      "metadata": {
        "colab": {
          "base_uri": "https://localhost:8080/"
        },
        "id": "pKg7o9d4gf8D",
        "outputId": "84d564b8-6b2f-4be0-f71c-6e661781b45a"
      },
      "source": [
        "import unittest\r\n",
        "\r\n",
        "class testBox(unittest.TestCase):\r\n",
        "    def test_box(self):\r\n",
        "        self.assertEqual(box_make(cakes, apples), [1,5], \"Should be [1,5]\")\r\n",
        "\r\n",
        "    def test_each_box(self):\r\n",
        "        self.assertEqual(number_item(20, 25, 5), [4,5], \"Should be [4,5]\")\r\n",
        "\r\n",
        "if __name__ == '__main__':\r\n",
        "    unittest.main(argv=['first-arg-is-ignored'], exit=False)"
      ],
      "execution_count": null,
      "outputs": [
        {
          "output_type": "stream",
          "text": [
            "...."
          ],
          "name": "stderr"
        },
        {
          "output_type": "stream",
          "text": [
            "\n",
            "Ainun can make box with the option : 1 or 5\n",
            "with the detail: \n",
            "If Ainun make 1 box, each box containts: \n",
            "Cakes\t:  20\n",
            "Apples\t:  25\n",
            "\n",
            "If Ainun make 5 box, each box containts: \n",
            "Cakes\t:  4\n",
            "Apples\t:  5\n",
            "\n",
            "Cakes\t:  4\n",
            "Apples\t:  5\n"
          ],
          "name": "stdout"
        },
        {
          "output_type": "stream",
          "text": [
            "\n",
            "----------------------------------------------------------------------\n",
            "Ran 4 tests in 0.006s\n",
            "\n",
            "OK\n"
          ],
          "name": "stderr"
        }
      ]
    },
    {
      "cell_type": "code",
      "metadata": {
        "id": "v0XiphJ7lY27"
      },
      "source": [
        "def get_min(a, b):\r\n",
        "  return a if a < b else b\r\n",
        "\r\n",
        "def factor(a):\r\n",
        "  return [x for x in range(1, a+1) if a%x==0]\r\n",
        "\r\n",
        "def number_items(a, b, box):\r\n",
        "  return [int(a/box), int(b/box)]\r\n",
        "\r\n",
        "def box_max(a, b):\r\n",
        "  min = get_min(a,b)\r\n",
        "  fac_min = factor(min)\r\n",
        "\r\n",
        "  max_box = 0\r\n",
        "  for val in fac_min:\r\n",
        "    if a%val == 0 and b%val == 0 and val>max_box:\r\n",
        "      max_box = val\r\n",
        "  return max_box"
      ],
      "execution_count": null,
      "outputs": []
    },
    {
      "cell_type": "code",
      "metadata": {
        "colab": {
          "base_uri": "https://localhost:8080/"
        },
        "id": "tO6-0oW7oZKS",
        "outputId": "f8e0d658-0bbe-4249-f400-694e1631e6d3"
      },
      "source": [
        "box_max(20, 25)"
      ],
      "execution_count": null,
      "outputs": [
        {
          "output_type": "execute_result",
          "data": {
            "text/plain": [
              "5"
            ]
          },
          "metadata": {
            "tags": []
          },
          "execution_count": 2
        }
      ]
    },
    {
      "cell_type": "code",
      "metadata": {
        "colab": {
          "base_uri": "https://localhost:8080/"
        },
        "id": "QtkU-JwfocbR",
        "outputId": "e44fd1cf-0265-4147-b562-9eefcd12defc"
      },
      "source": [
        "number_items(20, 25, 5)"
      ],
      "execution_count": null,
      "outputs": [
        {
          "output_type": "execute_result",
          "data": {
            "text/plain": [
              "[4, 5]"
            ]
          },
          "metadata": {
            "tags": []
          },
          "execution_count": 3
        }
      ]
    },
    {
      "cell_type": "code",
      "metadata": {
        "colab": {
          "base_uri": "https://localhost:8080/"
        },
        "id": "FEpafjz2ojke",
        "outputId": "78568f7f-0316-470d-821d-0bc3b4192c09"
      },
      "source": [
        "import unittest\r\n",
        "class testBoxMax(unittest.TestCase):\r\n",
        "    def test_box(self):\r\n",
        "        self.assertEqual(box_max(20, 25), 5, \"Should be 5\")\r\n",
        "\r\n",
        "    def test_each_box(self):\r\n",
        "        self.assertEqual(number_items(20, 25, 5), [4,5], \"Should be [4,5]\")\r\n",
        "\r\n",
        "if __name__ == '__main__':\r\n",
        "    unittest.main(argv=['first-arg-is-ignored'], exit=False)"
      ],
      "execution_count": null,
      "outputs": [
        {
          "output_type": "stream",
          "text": [
            "..\n",
            "----------------------------------------------------------------------\n",
            "Ran 2 tests in 0.009s\n",
            "\n",
            "OK\n"
          ],
          "name": "stderr"
        }
      ]
    },
    {
      "cell_type": "code",
      "metadata": {
        "id": "c6Y3767oqbR2"
      },
      "source": [
        ""
      ],
      "execution_count": null,
      "outputs": []
    }
  ]
}